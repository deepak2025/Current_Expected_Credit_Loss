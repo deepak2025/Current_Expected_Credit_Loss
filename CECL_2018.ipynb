{
 "cells": [
  {
   "cell_type": "code",
   "execution_count": 1,
   "metadata": {},
   "outputs": [],
   "source": [
    "import pandas as pd\n",
    "import numpy as np\n",
    "import matplotlib.pyplot as plt\n",
    "import sklearn\n",
    "import seaborn as sb\n",
    "\n",
    "from functools import reduce\n",
    "from sklearn import preprocessing\n",
    "from sklearn.linear_model import LogisticRegression\n",
    "from sklearn.model_selection import train_test_split\n",
    "from sklearn import metrics\n",
    "from sklearn.metrics import classification_report\n",
    "import statsmodels.formula.api as sm\n",
    "from sklearn.metrics import confusion_matrix"
   ]
  },
  {
   "cell_type": "code",
   "execution_count": null,
   "metadata": {},
   "outputs": [],
   "source": [
    "# Read Data\n",
    "\n",
    "acquisition = ['LoanID','Channel','SellerName','OrigInterestRate','OrigUnpPrinc','OrigLoanTerm',\n",
    "               'OrigDate','FirstPayment','OrigLTV','OrigCLTV','NumBorrow','DTIRat','CreditScore',\n",
    "               'FTHomeBuyer','LoanPurpose','PropertyType','NumUnits','OccStatus','PropertyState',\n",
    "               'Zip','MortInsPerc','ProductType','CoCreditScore','MortInsType','RelMortInd']\n",
    "\n",
    "performance = ['LoanID','MonthRep','Servicer','LAST_RT','LAST_UPB',\n",
    "               'LoanAge','MonthsToMaturity','AdMonthsToMaturity','MaturityDate','MSA',\n",
    "               'CLDS','ModFlag','ZB_Code','ZB_Date','LPI_Date',\n",
    "               'FCC_Date','DISP_Date','FCC_COST','PP_COST','AR_COST',\n",
    "               'IE_COST', 'TAX_COST','NS_PROCS','CE_PROCS','RMW_PROCS','O_PROCS','NON_INT_UPB',\n",
    "              'PRIN_FORG_UPB_FHFA','REPCH_FLAG','PRIN_FORG_UPB_OTH','TRANSFER_FLAG']\n",
    "\n",
    "a1 = pd.read_csv('C:/Class/cecl/Acquisition_2006Q1.txt', sep='|', names=acquisition, index_col=False)\n",
    "p1 = pd.read_csv('C:/Class/cecl/Performance_2006Q1.txt', sep='|', names=performance, index_col=False)\n"
   ]
  },
  {
   "cell_type": "code",
   "execution_count": 3,
   "metadata": {},
   "outputs": [],
   "source": [
    "keep_var_acq = ['LoanID','OrigInterestRate','OrigUnpPrinc','OrigLTV','CreditScore']\n",
    "keep_var_per = ['LoanID','MonthRep','LAST_RT','LAST_UPB',\n",
    "               'MonthsToMaturity','CLDS',\n",
    "               'ZB_Code','ZB_Date','LPI_Date','FCC_Date','DISP_Date',\n",
    "               'FCC_COST','PP_COST','AR_COST','IE_COST','TAX_COST','NS_PROCS',\n",
    "               'O_PROCS','NON_INT_UPB']\n",
    "\n",
    "a1_sub = a1[keep_var_acq].reset_index(drop=True)\n",
    "p1_sub = p1[keep_var_per].reset_index(drop=True)\n",
    "\n",
    "a1 = a1_sub.dropna(subset = ['CreditScore'])\n"
   ]
  },
  {
   "cell_type": "code",
   "execution_count": 4,
   "metadata": {},
   "outputs": [],
   "source": [
    "def_info = p1_sub.loc[p1_sub['ZB_Code'].isin([2.0,3.0,6.0,9.0,15,16])]"
   ]
  },
  {
   "cell_type": "code",
   "execution_count": 5,
   "metadata": {},
   "outputs": [],
   "source": [
    "prepay_info = p1_sub.loc[p1_sub['ZB_Code'].isin([1.0])]"
   ]
  },
  {
   "cell_type": "code",
   "execution_count": 6,
   "metadata": {},
   "outputs": [],
   "source": [
    "sample_id = a1[~a1['LoanID'].isin(def_info['LoanID'])].sample(n=def_info.shape[0],random_state=1)"
   ]
  },
  {
   "cell_type": "code",
   "execution_count": 7,
   "metadata": {},
   "outputs": [],
   "source": [
    "sample_a1 = a1.loc[a1['LoanID'].isin(sample_id['LoanID']) | a1['LoanID'].isin(def_info['LoanID'])]"
   ]
  },
  {
   "cell_type": "code",
   "execution_count": 8,
   "metadata": {},
   "outputs": [],
   "source": [
    "sample_p1 = p1_sub.loc[p1['LoanID'].isin(sample_a1['LoanID'])]"
   ]
  },
  {
   "cell_type": "code",
   "execution_count": 9,
   "metadata": {},
   "outputs": [],
   "source": [
    "sample_p1 = sample_p1.assign(**{'prepay_flag':np.nan})"
   ]
  },
  {
   "cell_type": "code",
   "execution_count": 10,
   "metadata": {},
   "outputs": [],
   "source": [
    "sample_p1.loc[sample_p1['LoanID'].isin(prepay_info['LoanID']),'prepay_flag']=1"
   ]
  },
  {
   "cell_type": "code",
   "execution_count": 11,
   "metadata": {},
   "outputs": [],
   "source": [
    "def f_delq(row):\n",
    "    if row['prepay_flag'] == 1:\n",
    "        if row['CLDS'] == '0':\n",
    "            return 0\n",
    "        elif row['ZB_Code'] == 1.0:\n",
    "            return -1\n",
    "    else:\n",
    "        if row['CLDS'] == '0':\n",
    "            return 0\n",
    "        elif row['CLDS'] == '1':\n",
    "            return 1\n",
    "        elif row['CLDS'] == '2':\n",
    "            return 2\n",
    "        elif row['CLDS'] == '3':\n",
    "            return 3\n",
    "        elif row['ZB_Code'] in [2.0,3.0,6.0,9.0,15,16]:\n",
    "            return 4"
   ]
  },
  {
   "cell_type": "code",
   "execution_count": 12,
   "metadata": {},
   "outputs": [],
   "source": [
    "sample_p1 = sample_p1.assign(DELQ_STAT= sample_p1.apply(f_delq, axis=1))"
   ]
  },
  {
   "cell_type": "code",
   "execution_count": 13,
   "metadata": {},
   "outputs": [],
   "source": [
    "# Define Transitions"
   ]
  },
  {
   "cell_type": "code",
   "execution_count": 14,
   "metadata": {},
   "outputs": [],
   "source": [
    "sample_p1 = sample_p1.dropna(subset=[\"DELQ_STAT\"])"
   ]
  },
  {
   "cell_type": "code",
   "execution_count": 15,
   "metadata": {},
   "outputs": [],
   "source": [
    "first_row_index = sample_p1.groupby(['LoanID'], as_index=False).apply(lambda g: g.index[0])"
   ]
  },
  {
   "cell_type": "code",
   "execution_count": 16,
   "metadata": {},
   "outputs": [],
   "source": [
    "sample_p1.loc[first_row_index,'firstrow'] = 1"
   ]
  },
  {
   "cell_type": "code",
   "execution_count": 17,
   "metadata": {},
   "outputs": [],
   "source": [
    "sample_p1['delq_shift'] = sample_p1.DELQ_STAT.shift()"
   ]
  },
  {
   "cell_type": "code",
   "execution_count": 18,
   "metadata": {},
   "outputs": [],
   "source": [
    "def f_tran(row): # transition\n",
    "    if row['firstrow'] != 1:\n",
    "        if row['DELQ_STAT'] == 0 and row['delq_shift'] == 0:\n",
    "            return '00'\n",
    "        elif row['DELQ_STAT'] == 1 and row['delq_shift'] == 0:\n",
    "            return '10'\n",
    "     #   elif row['DELQ_STAT'] == 1 and row['delq_shift'] == 1:\n",
    "      #      return '11'\n",
    "        elif row['DELQ_STAT'] == 0 and row['delq_shift'] == 1:\n",
    "            return '01'\n",
    "        elif row['DELQ_STAT'] == 2 and row['delq_shift'] == 1:\n",
    "            return '12'\n",
    "        elif row['DELQ_STAT'] == 1 and row['delq_shift'] == 2:\n",
    "            return '21'\n",
    "    #    elif row['DELQ_STAT'] == 2 and row['delq_shift'] == 2:\n",
    "     #       return '22'\n",
    "        elif row['DELQ_STAT'] == 3 and row['delq_shift'] == 2:\n",
    "            return '23'\n",
    "        elif row['DELQ_STAT'] == 2 and row['delq_shift'] == 3:\n",
    "            return '32'\n",
    "    #    elif row['DELQ_STAT'] == 3 and row['delq_shift'] == 3:\n",
    "     #       return '33'\n",
    "        elif row['DELQ_STAT'] == 4 and row['delq_shift'] == 3:\n",
    "            return '34'\n",
    "        elif row['DELQ_STAT'] == -1 and row['delq_shift'] == 0:\n",
    "            return '0-1'"
   ]
  },
  {
   "cell_type": "code",
   "execution_count": 19,
   "metadata": {},
   "outputs": [],
   "source": [
    "sample_p1 = sample_p1.assign(tran= sample_p1.apply(f_tran, axis=1))"
   ]
  },
  {
   "cell_type": "code",
   "execution_count": 20,
   "metadata": {},
   "outputs": [],
   "source": [
    "# Read Historical Macro Economic Variables (MEV)\n",
    "unemployment = pd.read_csv('/Users/xy4/Documents/CECL/UNRATE.csv', sep=',', names=['DATE','UNEMPLOY'],index_col=False)\n",
    "unemployment['DATE'] = pd.to_datetime(unemployment.DATE)\n",
    "unemployment['DATE'] = unemployment['DATE'].dt.strftime('%m/%d/%Y')\n",
    "hpi = pd.read_csv('/Users/xy4/Documents/CECL/HPI.csv', sep=',', names=['DATE','HPI'], index_col=False)\n",
    "hpi['DATE'] = pd.to_datetime(hpi.DATE)\n",
    "hpi['DATE'] = hpi['DATE'].dt.strftime('%m/%d/%Y')\n",
    "cpi = pd.read_csv('/Users/xy4/Documents/CECL/CPALTT01USM661S.csv', sep=',', names=['DATE','CPALTT01USM661S'], index_col=False)\n",
    "cpi['DATE'] = pd.to_datetime(cpi.DATE)\n",
    "cpi['DATE'] = cpi['DATE'].dt.strftime('%m/%d/%Y')\n",
    "gs3m = pd.read_csv('/Users/xy4/Documents/CECL/GS3M.csv', sep=',', names=['DATE','GS3M'], index_col=False) # 3 month treasure rate\n",
    "gs3m['DATE'] = pd.to_datetime(gs3m.DATE)\n",
    "gs3m['DATE'] = gs3m['DATE'].dt.strftime('%m/%d/%Y')\n",
    "gs5 = pd.read_csv('/Users/xy4/Documents/CECL/GS5.csv', sep=',', names=['DATE','GS5'], index_col=False) # 3 month treasure rate\n",
    "gs5['DATE'] = pd.to_datetime(gs5.DATE)\n",
    "gs5['DATE'] = gs5['DATE'].dt.strftime('%m/%d/%Y')\n",
    "gs10 = pd.read_csv('/Users/xy4/Documents/CECL/GS5.csv', sep=',', names=['DATE','GS10'], index_col=False) # 3 month treasure rate\n",
    "gs10['DATE'] = pd.to_datetime(gs10.DATE)\n",
    "gs10['DATE'] = gs10['DATE'].dt.strftime('%m/%d/%Y')\n",
    "# Make one table\n",
    "temp = [unemployment,hpi,cpi,gs3m,gs5,gs10]\n",
    "MEV = reduce(lambda left,right:pd.merge(left,right,on='DATE'),temp)"
   ]
  },
  {
   "cell_type": "code",
   "execution_count": 21,
   "metadata": {
    "scrolled": false
   },
   "outputs": [],
   "source": [
    "MEV.set_index('DATE',inplace=True)"
   ]
  },
  {
   "cell_type": "code",
   "execution_count": 22,
   "metadata": {},
   "outputs": [],
   "source": [
    "MEV = MEV.pct_change()"
   ]
  },
  {
   "cell_type": "code",
   "execution_count": 23,
   "metadata": {},
   "outputs": [],
   "source": [
    "mQ1 = pd.merge(sample_a1,sample_p1,how=\"outer\", on=['LoanID'])"
   ]
  },
  {
   "cell_type": "code",
   "execution_count": 24,
   "metadata": {},
   "outputs": [],
   "source": [
    "mQ1 = pd.merge(mQ1, MEV, how = 'left', left_on = \"MonthRep\", right_on=\"DATE\")"
   ]
  },
  {
   "cell_type": "code",
   "execution_count": 25,
   "metadata": {
    "scrolled": true
   },
   "outputs": [],
   "source": [
    "mQ1 = mQ1.dropna(subset=['tran'])"
   ]
  },
  {
   "cell_type": "code",
   "execution_count": 26,
   "metadata": {},
   "outputs": [],
   "source": [
    "mQ1_00 = mQ1.loc[mQ1['tran'] == '00']"
   ]
  },
  {
   "cell_type": "code",
   "execution_count": 27,
   "metadata": {},
   "outputs": [],
   "source": [
    "mQ1_000 = mQ1.loc[mQ1['tran'] != '00']"
   ]
  },
  {
   "cell_type": "code",
   "execution_count": 28,
   "metadata": {},
   "outputs": [],
   "source": [
    "mQ1_00_sample = mQ1_00.sample(frac=0.01,random_state=1)"
   ]
  },
  {
   "cell_type": "code",
   "execution_count": 29,
   "metadata": {},
   "outputs": [],
   "source": [
    "mQ1 = pd.concat([mQ1_000, mQ1_00_sample], join=\"inner\")"
   ]
  },
  {
   "cell_type": "code",
   "execution_count": 30,
   "metadata": {},
   "outputs": [],
   "source": [
    "MEVs = ['UNEMPLOY','HPI','GS3M','CreditScore']\n"
   ]
  },
  {
   "cell_type": "code",
   "execution_count": 31,
   "metadata": {},
   "outputs": [],
   "source": [
    "# Regression for state 0\n",
    "mQ1_0 = mQ1.loc[mQ1['tran'].isin(['00','01','0-1'])]\n",
    "X = pd.DataFrame(mQ1_0,columns=MEVs).values\n",
    "Y = mQ1_0['tran'].values"
   ]
  },
  {
   "cell_type": "code",
   "execution_count": 32,
   "metadata": {
    "scrolled": true
   },
   "outputs": [
    {
     "name": "stdout",
     "output_type": "stream",
     "text": [
      "             precision    recall  f1-score   support\n",
      "\n",
      "        0-1       0.46      0.58      0.51      5711\n",
      "         00       0.38      0.07      0.12      5882\n",
      "         01       0.54      0.78      0.64      7487\n",
      "\n",
      "avg / total       0.47      0.50      0.44     19080\n",
      "\n"
     ]
    }
   ],
   "source": [
    "X_train0, X_test0, Y_train0, Y_test0 = train_test_split(X,Y, test_size = 0.3, random_state = 1)\n",
    "LogReg0 = LogisticRegression()\n",
    "state_0 = LogReg0.fit(X_train0,Y_train0)\n",
    "Y_pred0 = LogReg0.predict(X_test0)\n",
    "print(classification_report(Y_test0,Y_pred0))"
   ]
  },
  {
   "cell_type": "code",
   "execution_count": 33,
   "metadata": {},
   "outputs": [],
   "source": [
    "# Regression for state 1\n",
    "mQ1_1 = mQ1.loc[mQ1['tran'].isin(['10','12'])]\n",
    "X = pd.DataFrame(mQ1_1,columns=MEVs).values\n",
    "Y = mQ1_1['tran'].values"
   ]
  },
  {
   "cell_type": "code",
   "execution_count": 34,
   "metadata": {},
   "outputs": [
    {
     "name": "stdout",
     "output_type": "stream",
     "text": [
      "             precision    recall  f1-score   support\n",
      "\n",
      "         10       0.59      1.00      0.74     16455\n",
      "         12       0.00      0.00      0.00     11268\n",
      "\n",
      "avg / total       0.35      0.59      0.44     27723\n",
      "\n"
     ]
    },
    {
     "name": "stderr",
     "output_type": "stream",
     "text": [
      "C:\\Users\\xy4\\Anaconda3\\lib\\site-packages\\sklearn\\metrics\\classification.py:1135: UndefinedMetricWarning: Precision and F-score are ill-defined and being set to 0.0 in labels with no predicted samples.\n",
      "  'precision', 'predicted', average, warn_for)\n"
     ]
    }
   ],
   "source": [
    "X_train1, X_test1, Y_train1, Y_test1 = train_test_split(X,Y, test_size = 0.3, random_state = 1)\n",
    "LogReg1 = LogisticRegression()\n",
    "state_1 = LogReg1.fit(X_train1,Y_train1)\n",
    "Y_pred1 = LogReg1.predict(X_test1)\n",
    "print(classification_report(Y_test1,Y_pred1))"
   ]
  },
  {
   "cell_type": "code",
   "execution_count": 35,
   "metadata": {},
   "outputs": [],
   "source": [
    "mQ1_2 = mQ1.loc[mQ1['tran'].isin(['21','23'])]\n",
    "X = pd.DataFrame(mQ1_2,columns=MEVs).values\n",
    "Y = mQ1_2['tran'].values"
   ]
  },
  {
   "cell_type": "code",
   "execution_count": 36,
   "metadata": {},
   "outputs": [
    {
     "name": "stdout",
     "output_type": "stream",
     "text": [
      "             precision    recall  f1-score   support\n",
      "\n",
      "         21       0.00      0.00      0.00      1579\n",
      "         23       0.85      1.00      0.92      9133\n",
      "\n",
      "avg / total       0.73      0.85      0.78     10712\n",
      "\n"
     ]
    },
    {
     "name": "stderr",
     "output_type": "stream",
     "text": [
      "C:\\Users\\xy4\\Anaconda3\\lib\\site-packages\\sklearn\\metrics\\classification.py:1135: UndefinedMetricWarning: Precision and F-score are ill-defined and being set to 0.0 in labels with no predicted samples.\n",
      "  'precision', 'predicted', average, warn_for)\n"
     ]
    }
   ],
   "source": [
    "X_train2, X_test2, Y_train2, Y_test2 = train_test_split(X,Y, test_size = 0.3, random_state = 1)\n",
    "LogReg2 = LogisticRegression()\n",
    "state_2 = LogReg2.fit(X_train2,Y_train2)\n",
    "Y_pred2 = LogReg2.predict(X_test2)\n",
    "print(classification_report(Y_test2,Y_pred2))"
   ]
  },
  {
   "cell_type": "code",
   "execution_count": 37,
   "metadata": {},
   "outputs": [],
   "source": [
    "mQ1_3 = mQ1.loc[mQ1['tran'].isin(['32','34'])]\n",
    "X = pd.DataFrame(mQ1_3,columns=MEVs).values\n",
    "Y = mQ1_3['tran'].values"
   ]
  },
  {
   "cell_type": "code",
   "execution_count": 38,
   "metadata": {
    "scrolled": true
   },
   "outputs": [
    {
     "name": "stdout",
     "output_type": "stream",
     "text": [
      "             precision    recall  f1-score   support\n",
      "\n",
      "         32       0.00      0.00      0.00       636\n",
      "         34       0.91      1.00      0.95      6079\n",
      "\n",
      "avg / total       0.82      0.91      0.86      6715\n",
      "\n"
     ]
    },
    {
     "name": "stderr",
     "output_type": "stream",
     "text": [
      "C:\\Users\\xy4\\Anaconda3\\lib\\site-packages\\sklearn\\metrics\\classification.py:1135: UndefinedMetricWarning: Precision and F-score are ill-defined and being set to 0.0 in labels with no predicted samples.\n",
      "  'precision', 'predicted', average, warn_for)\n"
     ]
    }
   ],
   "source": [
    "X_train3, X_test3, Y_train3, Y_test3 = train_test_split(X,Y, test_size = 0.3, random_state = 1)\n",
    "LogReg3 = LogisticRegression()\n",
    "state_3 = LogReg3.fit(X_train3,Y_train3)\n",
    "Y_pred3 = LogReg3.predict(X_test3)\n",
    "print(classification_report(Y_test3,Y_pred3))"
   ]
  },
  {
   "cell_type": "code",
   "execution_count": 39,
   "metadata": {},
   "outputs": [],
   "source": [
    "# LGD"
   ]
  },
  {
   "cell_type": "code",
   "execution_count": 40,
   "metadata": {},
   "outputs": [],
   "source": [
    "lgd_data = pd.merge(a1.loc[a1['LoanID'].isin(def_info['LoanID'])],\n",
    "                    p1.loc[p1['ZB_Code'].isin([2.0,3.0,6.0,9.0,15,16])],\n",
    "                           how=\"outer\", on=['LoanID'])"
   ]
  },
  {
   "cell_type": "code",
   "execution_count": 41,
   "metadata": {},
   "outputs": [],
   "source": [
    "lgd_data = lgd_data.dropna(subset=['CreditScore'])"
   ]
  },
  {
   "cell_type": "code",
   "execution_count": 42,
   "metadata": {},
   "outputs": [],
   "source": [
    "lgd_data = pd.merge(lgd_data,MEV,how = 'left', left_on = \"MonthRep\", right_on=\"DATE\")"
   ]
  },
  {
   "cell_type": "code",
   "execution_count": 43,
   "metadata": {},
   "outputs": [],
   "source": [
    "lgd_data['Expenses'] =  lgd_data[['FCC_COST','PP_COST','AR_COST',\n",
    "               'IE_COST']].sum(axis=1)"
   ]
  },
  {
   "cell_type": "code",
   "execution_count": 44,
   "metadata": {},
   "outputs": [],
   "source": [
    "lgd_data['Proceeds'] = lgd_data[['NS_PROCS','CE_PROCS','RMW_PROCS','O_PROCS']].sum(axis=1)"
   ]
  },
  {
   "cell_type": "code",
   "execution_count": 45,
   "metadata": {},
   "outputs": [],
   "source": [
    "lgd_data['Loss'] = lgd_data['LAST_UPB'] + lgd_data['Expenses']-lgd_data['Proceeds']"
   ]
  },
  {
   "cell_type": "code",
   "execution_count": 46,
   "metadata": {},
   "outputs": [],
   "source": [
    "lgd_data.loc[lgd_data['Loss']<0]=0"
   ]
  },
  {
   "cell_type": "code",
   "execution_count": 47,
   "metadata": {},
   "outputs": [],
   "source": [
    "lgd_data['Y'] = lgd_data['Loss']/lgd_data['LAST_UPB']"
   ]
  },
  {
   "cell_type": "code",
   "execution_count": 208,
   "metadata": {},
   "outputs": [],
   "source": [
    "lgd_result = sm.ols(formula=\"Y ~ CreditScore + HPI + UNEMPLOY\", data=lgd_data).fit()"
   ]
  },
  {
   "cell_type": "code",
   "execution_count": 50,
   "metadata": {},
   "outputs": [],
   "source": [
    "last_row_indicator = p1.groupby(['LoanID'], as_index=False).apply(lambda g: g.index[-1])"
   ]
  },
  {
   "cell_type": "code",
   "execution_count": 131,
   "metadata": {},
   "outputs": [],
   "source": [
    "p1.loc[last_row_indicator,'lastrow'] = 1"
   ]
  },
  {
   "cell_type": "code",
   "execution_count": 132,
   "metadata": {},
   "outputs": [],
   "source": [
    "pd_data = p1.loc[p1['lastrow']==1]"
   ]
  },
  {
   "cell_type": "code",
   "execution_count": 133,
   "metadata": {},
   "outputs": [],
   "source": [
    "pd_data = pd_data[~pd_data['ZB_Code'].isin([1.0,2.0,3.0,6.0,9.0,15,16])]"
   ]
  },
  {
   "cell_type": "code",
   "execution_count": 134,
   "metadata": {},
   "outputs": [],
   "source": [
    "pd_data = pd_data.dropna(axis='columns')"
   ]
  },
  {
   "cell_type": "code",
   "execution_count": 135,
   "metadata": {},
   "outputs": [],
   "source": [
    "pd_data = pd_data.drop(columns = ['lastrow','TRANSFER_FLAG','ModFlag','MSA'])"
   ]
  },
  {
   "cell_type": "code",
   "execution_count": 163,
   "metadata": {},
   "outputs": [],
   "source": [
    "pd_mev = pd.merge(pd_data, MEV, how = 'left', left_on = \"MonthRep\", right_on=\"DATE\")"
   ]
  },
  {
   "cell_type": "code",
   "execution_count": 144,
   "metadata": {},
   "outputs": [],
   "source": [
    "cresco = a1[['LoanID','CreditScore']]"
   ]
  },
  {
   "cell_type": "code",
   "execution_count": 164,
   "metadata": {},
   "outputs": [],
   "source": [
    "pd_mev = pd.merge(pd_mev, cresco, how = 'left', left_on = \"LoanID\", right_on=\"LoanID\")"
   ]
  },
  {
   "cell_type": "code",
   "execution_count": 165,
   "metadata": {},
   "outputs": [],
   "source": [
    "pd_mev = pd_mev.dropna(subset=['CreditScore'])"
   ]
  },
  {
   "cell_type": "code",
   "execution_count": 166,
   "metadata": {},
   "outputs": [],
   "source": [
    "pd_mev = pd_mev.reset_index(drop=True)"
   ]
  },
  {
   "cell_type": "code",
   "execution_count": 170,
   "metadata": {},
   "outputs": [],
   "source": [
    "pred0 = state_0.predict_proba(pd_mev[MEVs].values)\n",
    "pred1 = state_1.predict_proba(pd_mev[MEVs].values)\n",
    "pred2 = state_2.predict_proba(pd_mev[MEVs].values)\n",
    "pred3 = state_3.predict_proba(pd_mev[MEVs].values)\n",
    "pd_mev['DefaultF'] = 0\n",
    "pd_mev['DefaultP'] = 0\n",
    "pd_mev['DefaultS'] = 0"
   ]
  },
  {
   "cell_type": "code",
   "execution_count": 172,
   "metadata": {},
   "outputs": [],
   "source": [
    "for i, row in pd_mev.iterrows():\n",
    "    a = pred0[i]\n",
    "    b = pred1[i]\n",
    "    c = pred2[i]\n",
    "    d = pred3[i]\n",
    "    TPM = np.array([[1,0,0,0,0,0],\n",
    "                  [a[0],a[1],a[2],0,0,0],\n",
    "                  [0,b[0],0,b[1],0,0,],\n",
    "                  [0,0,c[0],0,c[1],0],\n",
    "                  [0,0,0,d[0],0,d[1]],\n",
    "                  [0,0,0,0,0,1]])\n",
    "    j = 1\n",
    "    P = TPM\n",
    "    if pd_mev.iloc[i,7] == '0':\n",
    "        k = 1\n",
    "    elif pd_mev.iloc[i,7] == \"1\":\n",
    "            K = 2\n",
    "    elif pd_mev.iloc[i,7] == \"2\":\n",
    "                k = 3\n",
    "    elif pd_mev.iloc[i,7] == \"3\":\n",
    "                    k = 4\n",
    "    else:\n",
    "        k = 5\n",
    "    while k!= 0 and k!= 5 and j < pd_mev.iloc[i,5]:\n",
    "        next_state = np.where(TPM[k]==max(TPM[k]))\n",
    "        k = next_state[0][0]\n",
    "        P = P*TPM\n",
    "        j = j + 1\n",
    "    pd_mev.iloc[i,-3] = j\n",
    "    pd_mev.iloc[i,-2] = P[4,5]\n",
    "    pd_mev.iloc[i,-1] = k"
   ]
  },
  {
   "cell_type": "code",
   "execution_count": 173,
   "metadata": {
    "scrolled": true
   },
   "outputs": [
    {
     "data": {
      "text/html": [
       "<div>\n",
       "<style scoped>\n",
       "    .dataframe tbody tr th:only-of-type {\n",
       "        vertical-align: middle;\n",
       "    }\n",
       "\n",
       "    .dataframe tbody tr th {\n",
       "        vertical-align: top;\n",
       "    }\n",
       "\n",
       "    .dataframe thead th {\n",
       "        text-align: right;\n",
       "    }\n",
       "</style>\n",
       "<table border=\"1\" class=\"dataframe\">\n",
       "  <thead>\n",
       "    <tr style=\"text-align: right;\">\n",
       "      <th></th>\n",
       "      <th>LoanID</th>\n",
       "      <th>MonthRep</th>\n",
       "      <th>LAST_RT</th>\n",
       "      <th>LAST_UPB</th>\n",
       "      <th>LoanAge</th>\n",
       "      <th>MonthsToMaturity</th>\n",
       "      <th>MaturityDate</th>\n",
       "      <th>CLDS</th>\n",
       "      <th>UNEMPLOY</th>\n",
       "      <th>HPI</th>\n",
       "      <th>CPALTT01USM661S</th>\n",
       "      <th>GS3M</th>\n",
       "      <th>GS5</th>\n",
       "      <th>GS10</th>\n",
       "      <th>CreditScore</th>\n",
       "      <th>DefaultF</th>\n",
       "      <th>DefaultP</th>\n",
       "      <th>DefaultS</th>\n",
       "    </tr>\n",
       "  </thead>\n",
       "  <tbody>\n",
       "    <tr>\n",
       "      <th>0</th>\n",
       "      <td>100036401006</td>\n",
       "      <td>09/01/2017</td>\n",
       "      <td>5.750</td>\n",
       "      <td>163704.94</td>\n",
       "      <td>127</td>\n",
       "      <td>233</td>\n",
       "      <td>02/2037</td>\n",
       "      <td>1</td>\n",
       "      <td>-0.045455</td>\n",
       "      <td>0.005303</td>\n",
       "      <td>0.004607</td>\n",
       "      <td>0.019417</td>\n",
       "      <td>0.011236</td>\n",
       "      <td>0.011236</td>\n",
       "      <td>674.0</td>\n",
       "      <td>233</td>\n",
       "      <td>6.007550e-11</td>\n",
       "      <td>2</td>\n",
       "    </tr>\n",
       "    <tr>\n",
       "      <th>1</th>\n",
       "      <td>100048597640</td>\n",
       "      <td>09/01/2017</td>\n",
       "      <td>6.250</td>\n",
       "      <td>208724.20</td>\n",
       "      <td>126</td>\n",
       "      <td>234</td>\n",
       "      <td>03/2037</td>\n",
       "      <td>0</td>\n",
       "      <td>-0.045455</td>\n",
       "      <td>0.005303</td>\n",
       "      <td>0.004607</td>\n",
       "      <td>0.019417</td>\n",
       "      <td>0.011236</td>\n",
       "      <td>0.011236</td>\n",
       "      <td>762.0</td>\n",
       "      <td>2</td>\n",
       "      <td>8.713121e-01</td>\n",
       "      <td>0</td>\n",
       "    </tr>\n",
       "    <tr>\n",
       "      <th>2</th>\n",
       "      <td>100122275573</td>\n",
       "      <td>09/01/2017</td>\n",
       "      <td>6.125</td>\n",
       "      <td>148843.11</td>\n",
       "      <td>127</td>\n",
       "      <td>233</td>\n",
       "      <td>02/2037</td>\n",
       "      <td>0</td>\n",
       "      <td>-0.045455</td>\n",
       "      <td>0.005303</td>\n",
       "      <td>0.004607</td>\n",
       "      <td>0.019417</td>\n",
       "      <td>0.011236</td>\n",
       "      <td>0.011236</td>\n",
       "      <td>604.0</td>\n",
       "      <td>233</td>\n",
       "      <td>1.617806e-14</td>\n",
       "      <td>1</td>\n",
       "    </tr>\n",
       "    <tr>\n",
       "      <th>3</th>\n",
       "      <td>100134033573</td>\n",
       "      <td>09/01/2017</td>\n",
       "      <td>6.750</td>\n",
       "      <td>57125.92</td>\n",
       "      <td>128</td>\n",
       "      <td>52</td>\n",
       "      <td>01/2022</td>\n",
       "      <td>0</td>\n",
       "      <td>-0.045455</td>\n",
       "      <td>0.005303</td>\n",
       "      <td>0.004607</td>\n",
       "      <td>0.019417</td>\n",
       "      <td>0.011236</td>\n",
       "      <td>0.011236</td>\n",
       "      <td>740.0</td>\n",
       "      <td>2</td>\n",
       "      <td>8.592660e-01</td>\n",
       "      <td>0</td>\n",
       "    </tr>\n",
       "    <tr>\n",
       "      <th>4</th>\n",
       "      <td>100252434914</td>\n",
       "      <td>09/01/2017</td>\n",
       "      <td>5.375</td>\n",
       "      <td>18858.39</td>\n",
       "      <td>128</td>\n",
       "      <td>52</td>\n",
       "      <td>01/2022</td>\n",
       "      <td>0</td>\n",
       "      <td>-0.045455</td>\n",
       "      <td>0.005303</td>\n",
       "      <td>0.004607</td>\n",
       "      <td>0.019417</td>\n",
       "      <td>0.011236</td>\n",
       "      <td>0.011236</td>\n",
       "      <td>804.0</td>\n",
       "      <td>2</td>\n",
       "      <td>8.917865e-01</td>\n",
       "      <td>0</td>\n",
       "    </tr>\n",
       "  </tbody>\n",
       "</table>\n",
       "</div>"
      ],
      "text/plain": [
       "         LoanID    MonthRep  LAST_RT   LAST_UPB  LoanAge  MonthsToMaturity  \\\n",
       "0  100036401006  09/01/2017    5.750  163704.94      127               233   \n",
       "1  100048597640  09/01/2017    6.250  208724.20      126               234   \n",
       "2  100122275573  09/01/2017    6.125  148843.11      127               233   \n",
       "3  100134033573  09/01/2017    6.750   57125.92      128                52   \n",
       "4  100252434914  09/01/2017    5.375   18858.39      128                52   \n",
       "\n",
       "  MaturityDate CLDS  UNEMPLOY       HPI  CPALTT01USM661S      GS3M       GS5  \\\n",
       "0      02/2037    1 -0.045455  0.005303         0.004607  0.019417  0.011236   \n",
       "1      03/2037    0 -0.045455  0.005303         0.004607  0.019417  0.011236   \n",
       "2      02/2037    0 -0.045455  0.005303         0.004607  0.019417  0.011236   \n",
       "3      01/2022    0 -0.045455  0.005303         0.004607  0.019417  0.011236   \n",
       "4      01/2022    0 -0.045455  0.005303         0.004607  0.019417  0.011236   \n",
       "\n",
       "       GS10  CreditScore  DefaultF      DefaultP  DefaultS  \n",
       "0  0.011236        674.0       233  6.007550e-11         2  \n",
       "1  0.011236        762.0         2  8.713121e-01         0  \n",
       "2  0.011236        604.0       233  1.617806e-14         1  \n",
       "3  0.011236        740.0         2  8.592660e-01         0  \n",
       "4  0.011236        804.0         2  8.917865e-01         0  "
      ]
     },
     "execution_count": 173,
     "metadata": {},
     "output_type": "execute_result"
    }
   ],
   "source": [
    "pd_mev.head()"
   ]
  },
  {
   "cell_type": "code",
   "execution_count": 240,
   "metadata": {},
   "outputs": [],
   "source": [
    "lgd_pd_temp = pd_mev[pd_mev['DefaultF'] != pd_mev['MonthsToMaturity'] ]"
   ]
  },
  {
   "cell_type": "code",
   "execution_count": 241,
   "metadata": {},
   "outputs": [],
   "source": [
    "lgd_pd = lgd_pd_temp[~lgd_pd_temp['DefaultS'].isin([0,1])]"
   ]
  },
  {
   "cell_type": "code",
   "execution_count": 283,
   "metadata": {},
   "outputs": [],
   "source": [
    "lgd_pd = lgd_pd.reset_index(drop=True)"
   ]
  },
  {
   "cell_type": "code",
   "execution_count": 247,
   "metadata": {
    "scrolled": true
   },
   "outputs": [],
   "source": [
    "lgd_pd['lgd'] = lgd_result.predict(lgd_pd)"
   ]
  },
  {
   "cell_type": "code",
   "execution_count": 288,
   "metadata": {},
   "outputs": [],
   "source": [
    "lgd_pd['MP'] = lgd_pd['LAST_RT']/100/12*lgd_pd['LAST_UPB']*(1+lgd_pd['LAST_RT']/100/12)**lgd_pd['MonthsToMaturity']/((1+lgd_pd['LAST_RT']/100/12)**lgd_pd['MonthsToMaturity']-1)"
   ]
  },
  {
   "cell_type": "code",
   "execution_count": 289,
   "metadata": {},
   "outputs": [],
   "source": [
    "lgd_pd['MP1'] = lgd_pd['MP'] *(1+lgd_pd['LAST_RT']/100/12)"
   ]
  },
  {
   "cell_type": "code",
   "execution_count": 295,
   "metadata": {},
   "outputs": [],
   "source": [
    "lgd_pd['ead'] = lgd_pd['LAST_UPB']*(1+lgd_pd['LAST_RT']/100/12)**lgd_pd['DefaultF'] - lgd_pd['MP1']*((1+lgd_pd['LAST_RT']/100/12)**lgd_pd['DefaultF']-1)/(lgd_pd['LAST_RT']/1200)"
   ]
  },
  {
   "cell_type": "code",
   "execution_count": 297,
   "metadata": {
    "scrolled": true
   },
   "outputs": [],
   "source": [
    "lgd_pd['cecl'] = lgd_pd['ead']*lgd_pd['DefaultP']*lgd_pd['lgd']/((1+lgd_pd['LAST_RT']/100/12)**lgd_pd['DefaultF'])"
   ]
  },
  {
   "cell_type": "code",
   "execution_count": 304,
   "metadata": {},
   "outputs": [],
   "source": [
    "result = sum(lgd_pd['cecl'])"
   ]
  },
  {
   "cell_type": "code",
   "execution_count": 305,
   "metadata": {},
   "outputs": [
    {
     "name": "stdout",
     "output_type": "stream",
     "text": [
      "163592404.47582096\n"
     ]
    }
   ],
   "source": [
    "print(result)"
   ]
  },
  {
   "cell_type": "code",
   "execution_count": 303,
   "metadata": {},
   "outputs": [
    {
     "data": {
      "text/plain": [
       "0.042254805047209715"
      ]
     },
     "execution_count": 303,
     "metadata": {},
     "output_type": "execute_result"
    }
   ],
   "source": [
    "result / sum(pd_mev['LAST_UPB'])"
   ]
  },
  {
   "cell_type": "code",
   "execution_count": 306,
   "metadata": {},
   "outputs": [
    {
     "data": {
      "text/plain": [
       "3871569263.969986"
      ]
     },
     "execution_count": 306,
     "metadata": {},
     "output_type": "execute_result"
    }
   ],
   "source": [
    "sum(pd_mev['LAST_UPB'])"
   ]
  },
  {
   "cell_type": "code",
   "execution_count": 307,
   "metadata": {},
   "outputs": [
    {
     "data": {
      "text/html": [
       "<table class=\"simpletable\">\n",
       "<caption>OLS Regression Results</caption>\n",
       "<tr>\n",
       "  <th>Dep. Variable:</th>            <td>Y</td>        <th>  R-squared:         </th> <td>   0.017</td>\n",
       "</tr>\n",
       "<tr>\n",
       "  <th>Model:</th>                   <td>OLS</td>       <th>  Adj. R-squared:    </th> <td>   0.017</td>\n",
       "</tr>\n",
       "<tr>\n",
       "  <th>Method:</th>             <td>Least Squares</td>  <th>  F-statistic:       </th> <td>   111.6</td>\n",
       "</tr>\n",
       "<tr>\n",
       "  <th>Date:</th>             <td>Wed, 05 Dec 2018</td> <th>  Prob (F-statistic):</th> <td>1.30e-71</td>\n",
       "</tr>\n",
       "<tr>\n",
       "  <th>Time:</th>                 <td>12:40:32</td>     <th>  Log-Likelihood:    </th> <td> -3102.6</td>\n",
       "</tr>\n",
       "<tr>\n",
       "  <th>No. Observations:</th>      <td> 18992</td>      <th>  AIC:               </th> <td>   6213.</td>\n",
       "</tr>\n",
       "<tr>\n",
       "  <th>Df Residuals:</th>          <td> 18988</td>      <th>  BIC:               </th> <td>   6245.</td>\n",
       "</tr>\n",
       "<tr>\n",
       "  <th>Df Model:</th>              <td>     3</td>      <th>                     </th>     <td> </td>   \n",
       "</tr>\n",
       "<tr>\n",
       "  <th>Covariance Type:</th>      <td>nonrobust</td>    <th>                     </th>     <td> </td>   \n",
       "</tr>\n",
       "</table>\n",
       "<table class=\"simpletable\">\n",
       "<tr>\n",
       "       <td></td>          <th>coef</th>     <th>std err</th>      <th>t</th>      <th>P>|t|</th>  <th>[0.025</th>    <th>0.975]</th>  \n",
       "</tr>\n",
       "<tr>\n",
       "  <th>Intercept</th>   <td>    0.8267</td> <td>    0.025</td> <td>   32.976</td> <td> 0.000</td> <td>    0.778</td> <td>    0.876</td>\n",
       "</tr>\n",
       "<tr>\n",
       "  <th>CreditScore</th> <td>   -0.0005</td> <td> 3.61e-05</td> <td>  -13.472</td> <td> 0.000</td> <td>   -0.001</td> <td>   -0.000</td>\n",
       "</tr>\n",
       "<tr>\n",
       "  <th>HPI</th>         <td>    4.3948</td> <td>    0.379</td> <td>   11.593</td> <td> 0.000</td> <td>    3.652</td> <td>    5.138</td>\n",
       "</tr>\n",
       "<tr>\n",
       "  <th>UNEMPLOY</th>    <td>    0.3829</td> <td>    0.096</td> <td>    3.970</td> <td> 0.000</td> <td>    0.194</td> <td>    0.572</td>\n",
       "</tr>\n",
       "</table>\n",
       "<table class=\"simpletable\">\n",
       "<tr>\n",
       "  <th>Omnibus:</th>       <td>1029.423</td> <th>  Durbin-Watson:     </th> <td>   2.041</td> \n",
       "</tr>\n",
       "<tr>\n",
       "  <th>Prob(Omnibus):</th>  <td> 0.000</td>  <th>  Jarque-Bera (JB):  </th> <td> 791.170</td> \n",
       "</tr>\n",
       "<tr>\n",
       "  <th>Skew:</th>           <td> 0.409</td>  <th>  Prob(JB):          </th> <td>1.58e-172</td>\n",
       "</tr>\n",
       "<tr>\n",
       "  <th>Kurtosis:</th>       <td> 2.426</td>  <th>  Cond. No.          </th> <td>1.27e+05</td> \n",
       "</tr>\n",
       "</table><br/><br/>Warnings:<br/>[1] Standard Errors assume that the covariance matrix of the errors is correctly specified.<br/>[2] The condition number is large, 1.27e+05. This might indicate that there are<br/>strong multicollinearity or other numerical problems."
      ],
      "text/plain": [
       "<class 'statsmodels.iolib.summary.Summary'>\n",
       "\"\"\"\n",
       "                            OLS Regression Results                            \n",
       "==============================================================================\n",
       "Dep. Variable:                      Y   R-squared:                       0.017\n",
       "Model:                            OLS   Adj. R-squared:                  0.017\n",
       "Method:                 Least Squares   F-statistic:                     111.6\n",
       "Date:                Wed, 05 Dec 2018   Prob (F-statistic):           1.30e-71\n",
       "Time:                        12:40:32   Log-Likelihood:                -3102.6\n",
       "No. Observations:               18992   AIC:                             6213.\n",
       "Df Residuals:                   18988   BIC:                             6245.\n",
       "Df Model:                           3                                         \n",
       "Covariance Type:            nonrobust                                         \n",
       "===============================================================================\n",
       "                  coef    std err          t      P>|t|      [0.025      0.975]\n",
       "-------------------------------------------------------------------------------\n",
       "Intercept       0.8267      0.025     32.976      0.000       0.778       0.876\n",
       "CreditScore    -0.0005   3.61e-05    -13.472      0.000      -0.001      -0.000\n",
       "HPI             4.3948      0.379     11.593      0.000       3.652       5.138\n",
       "UNEMPLOY        0.3829      0.096      3.970      0.000       0.194       0.572\n",
       "==============================================================================\n",
       "Omnibus:                     1029.423   Durbin-Watson:                   2.041\n",
       "Prob(Omnibus):                  0.000   Jarque-Bera (JB):              791.170\n",
       "Skew:                           0.409   Prob(JB):                    1.58e-172\n",
       "Kurtosis:                       2.426   Cond. No.                     1.27e+05\n",
       "==============================================================================\n",
       "\n",
       "Warnings:\n",
       "[1] Standard Errors assume that the covariance matrix of the errors is correctly specified.\n",
       "[2] The condition number is large, 1.27e+05. This might indicate that there are\n",
       "strong multicollinearity or other numerical problems.\n",
       "\"\"\""
      ]
     },
     "execution_count": 307,
     "metadata": {},
     "output_type": "execute_result"
    }
   ],
   "source": [
    "lgd_result.summary()"
   ]
  },
  {
   "cell_type": "code",
   "execution_count": null,
   "metadata": {},
   "outputs": [],
   "source": []
  }
 ],
 "metadata": {
  "kernelspec": {
   "display_name": "Python 3",
   "language": "python",
   "name": "python3"
  },
  "language_info": {
   "codemirror_mode": {
    "name": "ipython",
    "version": 3
   },
   "file_extension": ".py",
   "mimetype": "text/x-python",
   "name": "python",
   "nbconvert_exporter": "python",
   "pygments_lexer": "ipython3",
   "version": "3.6.5"
  }
 },
 "nbformat": 4,
 "nbformat_minor": 2
}
